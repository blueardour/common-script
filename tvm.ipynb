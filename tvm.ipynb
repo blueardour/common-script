{
 "cells": [
  {
   "cell_type": "code",
   "execution_count": 1,
   "metadata": {},
   "outputs": [],
   "source": [
    "import numpy as np\n",
    "import tvm"
   ]
  },
  {
   "cell_type": "code",
   "execution_count": 2,
   "metadata": {},
   "outputs": [],
   "source": [
    "tgt_host=\"llvm\"\n",
    "# Change it to respective GPU if gpu is enabled Ex: cuda, opencl\n",
    "tgt=\"opencl\""
   ]
  },
  {
   "cell_type": "code",
   "execution_count": 3,
   "metadata": {},
   "outputs": [
    {
     "name": "stdout",
     "output_type": "stream",
     "text": [
      "<class 'tvm.tensor.Tensor'>\n"
     ]
    }
   ],
   "source": [
    "n = tvm.var(\"n\")\n",
    "A = tvm.placeholder((n,), name='A')\n",
    "B = tvm.placeholder((n,), name='B')\n",
    "C = tvm.compute(A.shape, lambda i: A[i] + B[i], name=\"C\")\n",
    "print(type(C))"
   ]
  },
  {
   "cell_type": "code",
   "execution_count": 4,
   "metadata": {},
   "outputs": [],
   "source": [
    "s = tvm.create_schedule(C.op)"
   ]
  },
  {
   "cell_type": "code",
   "execution_count": 5,
   "metadata": {},
   "outputs": [],
   "source": [
    "bx, tx = s[C].split(C.op.axis[0], factor=64)"
   ]
  },
  {
   "cell_type": "code",
   "execution_count": 6,
   "metadata": {},
   "outputs": [],
   "source": [
    "if tgt == \"cuda\" or tgt.startswith('opencl'):\n",
    "  s[C].bind(bx, tvm.thread_axis(\"blockIdx.x\"))\n",
    "  s[C].bind(tx, tvm.thread_axis(\"threadIdx.x\"))"
   ]
  },
  {
   "cell_type": "code",
   "execution_count": 7,
   "metadata": {},
   "outputs": [],
   "source": [
    "fadd = tvm.build(s, [A, B, C], tgt, target_host=tgt_host, name=\"myadd\")"
   ]
  },
  {
   "cell_type": "code",
   "execution_count": 8,
   "metadata": {},
   "outputs": [
    {
     "name": "stdout",
     "output_type": "stream",
     "text": [
      "-----Device code-----\n",
      "__kernel void myadd_kernel0(__global float* restrict C, __global float* restrict A, __global float* restrict B, int n) {\n",
      "  if (((int)get_group_id(0)) < (n / 64)) {\n",
      "    C[((((int)get_group_id(0)) * 64) + ((int)get_local_id(0)))] = (A[((((int)get_group_id(0)) * 64) + ((int)get_local_id(0)))] + B[((((int)get_group_id(0)) * 64) + ((int)get_local_id(0)))]);\n",
      "  } else {\n",
      "    if ((((int)get_group_id(0)) * 64) < (n - ((int)get_local_id(0)))) {\n",
      "      C[((((int)get_group_id(0)) * 64) + ((int)get_local_id(0)))] = (A[((((int)get_group_id(0)) * 64) + ((int)get_local_id(0)))] + B[((((int)get_group_id(0)) * 64) + ((int)get_local_id(0)))]);\n",
      "    }\n",
      "  }\n",
      "}\n",
      "\n",
      "\n"
     ]
    }
   ],
   "source": [
    "if tgt == \"cuda\" or tgt.startswith('opencl'):\n",
    "    dev_module = fadd.imported_modules[0]\n",
    "    #host_module= fadd.imported_modules[1]\n",
    "    print(\"-----Device code-----\")\n",
    "    print(dev_module.get_source())\n",
    "    #print(\"-----Host code-----\")\n",
    "    #print(host_module.get_source())"
   ]
  },
  {
   "cell_type": "code",
   "execution_count": null,
   "metadata": {},
   "outputs": [],
   "source": []
  }
 ],
 "metadata": {
  "kernelspec": {
   "display_name": "Python 3",
   "language": "python",
   "name": "python3"
  },
  "language_info": {
   "codemirror_mode": {
    "name": "ipython",
    "version": 3
   },
   "file_extension": ".py",
   "mimetype": "text/x-python",
   "name": "python",
   "nbconvert_exporter": "python",
   "pygments_lexer": "ipython3",
   "version": "3.6.8"
  }
 },
 "nbformat": 4,
 "nbformat_minor": 2
}
